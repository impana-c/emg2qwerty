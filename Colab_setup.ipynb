{
  "cells": [
    {
      "cell_type": "markdown",
      "metadata": {
        "id": "IvxJOJu4XUIW"
      },
      "source": [
        "### Step 1: Mount the Google Drive\n",
        "\n",
        "Remember to use GPU runtime before mounting your Google Drive. (Runtime --> Change runtime type)."
      ]
    },
    {
      "cell_type": "code",
      "execution_count": 3,
      "metadata": {
        "id": "SCSU4HrvkVDq"
      },
      "outputs": [
        {
          "ename": "ModuleNotFoundError",
          "evalue": "No module named 'google.colab'",
          "output_type": "error",
          "traceback": [
            "\u001b[0;31m---------------------------------------------------------------------------\u001b[0m",
            "\u001b[0;31mModuleNotFoundError\u001b[0m                       Traceback (most recent call last)",
            "Cell \u001b[0;32mIn[3], line 1\u001b[0m\n\u001b[0;32m----> 1\u001b[0m \u001b[38;5;28;01mfrom\u001b[39;00m \u001b[38;5;21;01mgoogle\u001b[39;00m\u001b[38;5;21;01m.\u001b[39;00m\u001b[38;5;21;01mcolab\u001b[39;00m \u001b[38;5;28;01mimport\u001b[39;00m drive\n\u001b[1;32m      2\u001b[0m drive\u001b[38;5;241m.\u001b[39mmount(\u001b[38;5;124m'\u001b[39m\u001b[38;5;124m/content/drive\u001b[39m\u001b[38;5;124m'\u001b[39m)\n",
            "\u001b[0;31mModuleNotFoundError\u001b[0m: No module named 'google.colab'"
          ]
        }
      ],
      "source": [
        "from google.colab import drive\n",
        "drive.mount('/content/drive')"
      ]
    },
    {
      "cell_type": "markdown",
      "metadata": {
        "id": "FyoSL1U8Xbjh"
      },
      "source": [
        "### Step 2: Open the project directory\n",
        "\n",
        "Replace `Your_Dir` with your own path."
      ]
    },
    {
      "cell_type": "code",
      "execution_count": null,
      "metadata": {
        "id": "-gfQ17SmkfOK"
      },
      "outputs": [],
      "source": [
        "cd Your_Dir/emg2qwerty"
      ]
    },
    {
      "cell_type": "markdown",
      "metadata": {
        "id": "eTzYfAOEYN4C"
      },
      "source": [
        "### Step 3: Install required packages\n",
        "\n",
        "After installing them, Colab will require you to restart the session."
      ]
    },
    {
      "cell_type": "code",
      "execution_count": 11,
      "metadata": {
        "id": "HFFKvhs4tAp5"
      },
      "outputs": [
        {
          "name": "stdout",
          "output_type": "stream",
          "text": [
            "Collecting git+https://github.com/stepanhruda/camel-kenlm.git@a6e906b2b30497dd999cb9c84c42c5111f8616e0 (from -r requirements.txt (line 31))\n",
            "  Cloning https://github.com/stepanhruda/camel-kenlm.git (to revision a6e906b2b30497dd999cb9c84c42c5111f8616e0) to /tmp/pip-req-build-bo90clwj\n",
            "  Running command git clone --filter=blob:none --quiet https://github.com/stepanhruda/camel-kenlm.git /tmp/pip-req-build-bo90clwj\n",
            "  Running command git rev-parse -q --verify 'sha^a6e906b2b30497dd999cb9c84c42c5111f8616e0'\n",
            "  Running command git fetch -q https://github.com/stepanhruda/camel-kenlm.git a6e906b2b30497dd999cb9c84c42c5111f8616e0\n",
            "  Running command git checkout -q a6e906b2b30497dd999cb9c84c42c5111f8616e0\n",
            "  Resolved https://github.com/stepanhruda/camel-kenlm.git to commit a6e906b2b30497dd999cb9c84c42c5111f8616e0\n",
            "  Installing build dependencies ... \u001b[?25ldone\n",
            "\u001b[?25h  Getting requirements to build wheel ... \u001b[?25ldone\n",
            "\u001b[?25h  Preparing metadata (pyproject.toml) ... \u001b[?25ldone\n",
            "\u001b[?25hRequirement already satisfied: click==8.1.7 in /home/bkwan27/anaconda3/lib/python3.10/site-packages (from -r requirements.txt (line 1)) (8.1.7)\n",
            "Requirement already satisfied: datasets==2.19.2 in /home/bkwan27/anaconda3/lib/python3.10/site-packages (from -r requirements.txt (line 2)) (2.19.2)\n",
            "Requirement already satisfied: h5py==3.11.0 in /home/bkwan27/anaconda3/lib/python3.10/site-packages (from -r requirements.txt (line 3)) (3.11.0)\n",
            "Requirement already satisfied: hydra-core==1.3.2 in /home/bkwan27/anaconda3/lib/python3.10/site-packages (from -r requirements.txt (line 4)) (1.3.2)\n",
            "Requirement already satisfied: hydra-submitit-launcher==1.2.0 in /home/bkwan27/anaconda3/lib/python3.10/site-packages (from -r requirements.txt (line 5)) (1.2.0)\n",
            "Requirement already satisfied: hypothesis==6.97.6 in /home/bkwan27/anaconda3/lib/python3.10/site-packages (from -r requirements.txt (line 6)) (6.97.6)\n",
            "Requirement already satisfied: lightning-bolts==0.7.0 in /home/bkwan27/anaconda3/lib/python3.10/site-packages (from -r requirements.txt (line 7)) (0.7.0)\n",
            "Requirement already satisfied: mne-bids==0.15.0 in /home/bkwan27/anaconda3/lib/python3.10/site-packages (from -r requirements.txt (line 8)) (0.15.0)\n",
            "Requirement already satisfied: nltk==3.8.1 in /home/bkwan27/anaconda3/lib/python3.10/site-packages (from -r requirements.txt (line 9)) (3.8.1)\n",
            "Collecting numpy==1.24.4 (from -r requirements.txt (line 10))\n",
            "  Downloading numpy-1.24.4-cp310-cp310-manylinux_2_17_x86_64.manylinux2014_x86_64.whl.metadata (5.6 kB)\n",
            "Requirement already satisfied: omegaconf==2.3.0 in /home/bkwan27/anaconda3/lib/python3.10/site-packages (from -r requirements.txt (line 11)) (2.3.0)\n",
            "Requirement already satisfied: pandas==2.0.3 in /home/bkwan27/anaconda3/lib/python3.10/site-packages (from -r requirements.txt (line 12)) (2.0.3)\n",
            "Requirement already satisfied: pip==24.0 in /home/bkwan27/anaconda3/lib/python3.10/site-packages (from -r requirements.txt (line 13)) (24.0)\n",
            "Requirement already satisfied: pre-commit==3.7.1 in /home/bkwan27/anaconda3/lib/python3.10/site-packages (from -r requirements.txt (line 14)) (3.7.1)\n",
            "Requirement already satisfied: pytest-benchmark==4.0.0 in /home/bkwan27/anaconda3/lib/python3.10/site-packages (from -r requirements.txt (line 15)) (4.0.0)\n",
            "Requirement already satisfied: pytest-cov==5.0.0 in /home/bkwan27/anaconda3/lib/python3.10/site-packages (from -r requirements.txt (line 16)) (5.0.0)\n",
            "Requirement already satisfied: pytest-env==1.1.3 in /home/bkwan27/anaconda3/lib/python3.10/site-packages (from -r requirements.txt (line 17)) (1.1.3)\n",
            "Requirement already satisfied: pytest-mock==3.14.0 in /home/bkwan27/anaconda3/lib/python3.10/site-packages (from -r requirements.txt (line 18)) (3.14.0)\n",
            "Requirement already satisfied: pytest-rerunfailures==14.0 in /home/bkwan27/anaconda3/lib/python3.10/site-packages (from -r requirements.txt (line 19)) (14.0)\n",
            "Requirement already satisfied: pytest-xdist==3.5.0 in /home/bkwan27/anaconda3/lib/python3.10/site-packages (from pytest-xdist[psutil]==3.5.0->-r requirements.txt (line 20)) (3.5.0)\n",
            "Requirement already satisfied: pytest==7.4.4 in /home/bkwan27/anaconda3/lib/python3.10/site-packages (from -r requirements.txt (line 21)) (7.4.4)\n",
            "Requirement already satisfied: python-levenshtein==0.12.2 in /home/bkwan27/anaconda3/lib/python3.10/site-packages (from -r requirements.txt (line 22)) (0.12.2)\n",
            "Requirement already satisfied: pytorch-lightning==1.8.6 in /home/bkwan27/anaconda3/lib/python3.10/site-packages (from -r requirements.txt (line 23)) (1.8.6)\n",
            "Requirement already satisfied: torch==2.3.0 in /home/bkwan27/anaconda3/lib/python3.10/site-packages (from -r requirements.txt (line 24)) (2.3.0)\n",
            "Requirement already satisfied: scipy==1.10.1 in /home/bkwan27/anaconda3/lib/python3.10/site-packages (from -r requirements.txt (line 25)) (1.10.1)\n",
            "Requirement already satisfied: setuptools==69.5.1 in /home/bkwan27/anaconda3/lib/python3.10/site-packages (from -r requirements.txt (line 26)) (69.5.1)\n",
            "Requirement already satisfied: torchaudio==2.3.0 in /home/bkwan27/anaconda3/lib/python3.10/site-packages (from -r requirements.txt (line 27)) (2.3.0)\n",
            "Requirement already satisfied: torchmetrics==0.11.4 in /home/bkwan27/anaconda3/lib/python3.10/site-packages (from -r requirements.txt (line 28)) (0.11.4)\n",
            "Requirement already satisfied: trio==0.23.2 in /home/bkwan27/anaconda3/lib/python3.10/site-packages (from -r requirements.txt (line 29)) (0.23.2)\n",
            "Requirement already satisfied: unidecode==1.3.8 in /home/bkwan27/anaconda3/lib/python3.10/site-packages (from -r requirements.txt (line 30)) (1.3.8)\n",
            "Requirement already satisfied: filelock in /home/bkwan27/anaconda3/lib/python3.10/site-packages (from datasets==2.19.2->-r requirements.txt (line 2)) (3.17.0)\n",
            "Requirement already satisfied: pyarrow>=12.0.0 in /home/bkwan27/anaconda3/lib/python3.10/site-packages (from datasets==2.19.2->-r requirements.txt (line 2)) (19.0.1)\n",
            "Requirement already satisfied: pyarrow-hotfix in /home/bkwan27/anaconda3/lib/python3.10/site-packages (from datasets==2.19.2->-r requirements.txt (line 2)) (0.6)\n",
            "Requirement already satisfied: dill<0.3.9,>=0.3.0 in /home/bkwan27/anaconda3/lib/python3.10/site-packages (from datasets==2.19.2->-r requirements.txt (line 2)) (0.3.8)\n",
            "Requirement already satisfied: requests>=2.32.1 in /home/bkwan27/anaconda3/lib/python3.10/site-packages (from datasets==2.19.2->-r requirements.txt (line 2)) (2.32.3)\n",
            "Requirement already satisfied: tqdm>=4.62.1 in /home/bkwan27/anaconda3/lib/python3.10/site-packages (from datasets==2.19.2->-r requirements.txt (line 2)) (4.64.1)\n",
            "Requirement already satisfied: xxhash in /home/bkwan27/anaconda3/lib/python3.10/site-packages (from datasets==2.19.2->-r requirements.txt (line 2)) (3.5.0)\n",
            "Requirement already satisfied: multiprocess in /home/bkwan27/anaconda3/lib/python3.10/site-packages (from datasets==2.19.2->-r requirements.txt (line 2)) (0.70.16)\n",
            "Requirement already satisfied: fsspec<=2024.3.1,>=2023.1.0 in /home/bkwan27/anaconda3/lib/python3.10/site-packages (from fsspec[http]<=2024.3.1,>=2023.1.0->datasets==2.19.2->-r requirements.txt (line 2)) (2024.3.1)\n",
            "Requirement already satisfied: aiohttp in /home/bkwan27/anaconda3/lib/python3.10/site-packages (from datasets==2.19.2->-r requirements.txt (line 2)) (3.11.13)\n",
            "Requirement already satisfied: huggingface-hub>=0.21.2 in /home/bkwan27/anaconda3/lib/python3.10/site-packages (from datasets==2.19.2->-r requirements.txt (line 2)) (0.29.2)\n",
            "Requirement already satisfied: packaging in /home/bkwan27/anaconda3/lib/python3.10/site-packages (from datasets==2.19.2->-r requirements.txt (line 2)) (22.0)\n",
            "Requirement already satisfied: pyyaml>=5.1 in /home/bkwan27/anaconda3/lib/python3.10/site-packages (from datasets==2.19.2->-r requirements.txt (line 2)) (6.0)\n",
            "Requirement already satisfied: antlr4-python3-runtime==4.9.* in /home/bkwan27/anaconda3/lib/python3.10/site-packages (from hydra-core==1.3.2->-r requirements.txt (line 4)) (4.9.3)\n",
            "Requirement already satisfied: submitit>=1.3.3 in /home/bkwan27/anaconda3/lib/python3.10/site-packages (from hydra-submitit-launcher==1.2.0->-r requirements.txt (line 5)) (1.5.2)\n",
            "Requirement already satisfied: attrs>=22.2.0 in /home/bkwan27/anaconda3/lib/python3.10/site-packages (from hypothesis==6.97.6->-r requirements.txt (line 6)) (25.1.0)\n",
            "Requirement already satisfied: sortedcontainers<3.0.0,>=2.1.0 in /home/bkwan27/anaconda3/lib/python3.10/site-packages (from hypothesis==6.97.6->-r requirements.txt (line 6)) (2.4.0)\n",
            "Requirement already satisfied: exceptiongroup>=1.0.0 in /home/bkwan27/anaconda3/lib/python3.10/site-packages (from hypothesis==6.97.6->-r requirements.txt (line 6)) (1.2.2)\n",
            "Requirement already satisfied: lightning-utilities>0.3.1 in /home/bkwan27/anaconda3/lib/python3.10/site-packages (from lightning-bolts==0.7.0->-r requirements.txt (line 7)) (0.13.1)\n",
            "Requirement already satisfied: torchvision>=0.10.0 in /home/bkwan27/anaconda3/lib/python3.10/site-packages (from lightning-bolts==0.7.0->-r requirements.txt (line 7)) (0.18.0)\n",
            "Requirement already satisfied: tensorboard>=2.9.1 in /home/bkwan27/anaconda3/lib/python3.10/site-packages (from lightning-bolts==0.7.0->-r requirements.txt (line 7)) (2.18.0)\n",
            "Requirement already satisfied: mne>=1.5 in /home/bkwan27/anaconda3/lib/python3.10/site-packages (from mne-bids==0.15.0->-r requirements.txt (line 8)) (1.9.0)\n",
            "Requirement already satisfied: joblib in /home/bkwan27/anaconda3/lib/python3.10/site-packages (from nltk==3.8.1->-r requirements.txt (line 9)) (1.1.1)\n",
            "Requirement already satisfied: regex>=2021.8.3 in /home/bkwan27/anaconda3/lib/python3.10/site-packages (from nltk==3.8.1->-r requirements.txt (line 9)) (2022.7.9)\n",
            "Requirement already satisfied: python-dateutil>=2.8.2 in /home/bkwan27/anaconda3/lib/python3.10/site-packages (from pandas==2.0.3->-r requirements.txt (line 12)) (2.8.2)\n",
            "Requirement already satisfied: pytz>=2020.1 in /home/bkwan27/anaconda3/lib/python3.10/site-packages (from pandas==2.0.3->-r requirements.txt (line 12)) (2022.7)\n",
            "Requirement already satisfied: tzdata>=2022.1 in /home/bkwan27/anaconda3/lib/python3.10/site-packages (from pandas==2.0.3->-r requirements.txt (line 12)) (2025.1)\n",
            "Requirement already satisfied: cfgv>=2.0.0 in /home/bkwan27/anaconda3/lib/python3.10/site-packages (from pre-commit==3.7.1->-r requirements.txt (line 14)) (3.4.0)\n",
            "Requirement already satisfied: identify>=1.0.0 in /home/bkwan27/anaconda3/lib/python3.10/site-packages (from pre-commit==3.7.1->-r requirements.txt (line 14)) (2.6.8)\n",
            "Requirement already satisfied: nodeenv>=0.11.1 in /home/bkwan27/anaconda3/lib/python3.10/site-packages (from pre-commit==3.7.1->-r requirements.txt (line 14)) (1.9.1)\n",
            "Requirement already satisfied: virtualenv>=20.10.0 in /home/bkwan27/anaconda3/lib/python3.10/site-packages (from pre-commit==3.7.1->-r requirements.txt (line 14)) (20.29.2)\n",
            "Requirement already satisfied: py-cpuinfo in /home/bkwan27/anaconda3/lib/python3.10/site-packages (from pytest-benchmark==4.0.0->-r requirements.txt (line 15)) (9.0.0)\n",
            "Requirement already satisfied: coverage>=5.2.1 in /home/bkwan27/anaconda3/lib/python3.10/site-packages (from coverage[toml]>=5.2.1->pytest-cov==5.0.0->-r requirements.txt (line 16)) (7.6.12)\n",
            "Requirement already satisfied: tomli>=2.0.1 in /home/bkwan27/anaconda3/lib/python3.10/site-packages (from pytest-env==1.1.3->-r requirements.txt (line 17)) (2.0.1)\n",
            "Requirement already satisfied: execnet>=1.1 in /home/bkwan27/anaconda3/lib/python3.10/site-packages (from pytest-xdist==3.5.0->pytest-xdist[psutil]==3.5.0->-r requirements.txt (line 20)) (2.1.1)\n",
            "Requirement already satisfied: iniconfig in /home/bkwan27/anaconda3/lib/python3.10/site-packages (from pytest==7.4.4->-r requirements.txt (line 21)) (1.1.1)\n",
            "Requirement already satisfied: pluggy<2.0,>=0.12 in /home/bkwan27/anaconda3/lib/python3.10/site-packages (from pytest==7.4.4->-r requirements.txt (line 21)) (1.0.0)\n",
            "Requirement already satisfied: tensorboardX>=2.2 in /home/bkwan27/anaconda3/lib/python3.10/site-packages (from pytorch-lightning==1.8.6->-r requirements.txt (line 23)) (2.6.2.2)\n",
            "Requirement already satisfied: typing-extensions>=4.0.0 in /home/bkwan27/anaconda3/lib/python3.10/site-packages (from pytorch-lightning==1.8.6->-r requirements.txt (line 23)) (4.12.2)\n",
            "Requirement already satisfied: sympy in /home/bkwan27/anaconda3/lib/python3.10/site-packages (from torch==2.3.0->-r requirements.txt (line 24)) (1.11.1)\n",
            "Requirement already satisfied: networkx in /home/bkwan27/anaconda3/lib/python3.10/site-packages (from torch==2.3.0->-r requirements.txt (line 24)) (2.8.4)\n",
            "Requirement already satisfied: jinja2 in /home/bkwan27/anaconda3/lib/python3.10/site-packages (from torch==2.3.0->-r requirements.txt (line 24)) (3.1.2)\n",
            "Requirement already satisfied: nvidia-cuda-nvrtc-cu12==12.1.105 in /home/bkwan27/anaconda3/lib/python3.10/site-packages (from torch==2.3.0->-r requirements.txt (line 24)) (12.1.105)\n",
            "Requirement already satisfied: nvidia-cuda-runtime-cu12==12.1.105 in /home/bkwan27/anaconda3/lib/python3.10/site-packages (from torch==2.3.0->-r requirements.txt (line 24)) (12.1.105)\n",
            "Requirement already satisfied: nvidia-cuda-cupti-cu12==12.1.105 in /home/bkwan27/anaconda3/lib/python3.10/site-packages (from torch==2.3.0->-r requirements.txt (line 24)) (12.1.105)\n",
            "Requirement already satisfied: nvidia-cudnn-cu12==8.9.2.26 in /home/bkwan27/anaconda3/lib/python3.10/site-packages (from torch==2.3.0->-r requirements.txt (line 24)) (8.9.2.26)\n",
            "Requirement already satisfied: nvidia-cublas-cu12==12.1.3.1 in /home/bkwan27/anaconda3/lib/python3.10/site-packages (from torch==2.3.0->-r requirements.txt (line 24)) (12.1.3.1)\n",
            "Requirement already satisfied: nvidia-cufft-cu12==11.0.2.54 in /home/bkwan27/anaconda3/lib/python3.10/site-packages (from torch==2.3.0->-r requirements.txt (line 24)) (11.0.2.54)\n",
            "Requirement already satisfied: nvidia-curand-cu12==10.3.2.106 in /home/bkwan27/anaconda3/lib/python3.10/site-packages (from torch==2.3.0->-r requirements.txt (line 24)) (10.3.2.106)\n",
            "Requirement already satisfied: nvidia-cusolver-cu12==11.4.5.107 in /home/bkwan27/anaconda3/lib/python3.10/site-packages (from torch==2.3.0->-r requirements.txt (line 24)) (11.4.5.107)\n",
            "Requirement already satisfied: nvidia-cusparse-cu12==12.1.0.106 in /home/bkwan27/anaconda3/lib/python3.10/site-packages (from torch==2.3.0->-r requirements.txt (line 24)) (12.1.0.106)\n",
            "Requirement already satisfied: nvidia-nccl-cu12==2.20.5 in /home/bkwan27/anaconda3/lib/python3.10/site-packages (from torch==2.3.0->-r requirements.txt (line 24)) (2.20.5)\n",
            "Requirement already satisfied: nvidia-nvtx-cu12==12.1.105 in /home/bkwan27/anaconda3/lib/python3.10/site-packages (from torch==2.3.0->-r requirements.txt (line 24)) (12.1.105)\n",
            "Requirement already satisfied: triton==2.3.0 in /home/bkwan27/anaconda3/lib/python3.10/site-packages (from torch==2.3.0->-r requirements.txt (line 24)) (2.3.0)\n",
            "Requirement already satisfied: idna in /home/bkwan27/anaconda3/lib/python3.10/site-packages (from trio==0.23.2->-r requirements.txt (line 29)) (3.4)\n",
            "Requirement already satisfied: outcome in /home/bkwan27/anaconda3/lib/python3.10/site-packages (from trio==0.23.2->-r requirements.txt (line 29)) (1.3.0.post0)\n",
            "Requirement already satisfied: sniffio>=1.3.0 in /home/bkwan27/anaconda3/lib/python3.10/site-packages (from trio==0.23.2->-r requirements.txt (line 29)) (1.3.1)\n",
            "Requirement already satisfied: psutil>=3.0 in /home/bkwan27/anaconda3/lib/python3.10/site-packages (from pytest-xdist[psutil]==3.5.0->-r requirements.txt (line 20)) (5.9.0)\n",
            "Requirement already satisfied: nvidia-nvjitlink-cu12 in /home/bkwan27/anaconda3/lib/python3.10/site-packages (from nvidia-cusolver-cu12==11.4.5.107->torch==2.3.0->-r requirements.txt (line 24)) (12.8.61)\n",
            "Requirement already satisfied: aiohappyeyeballs>=2.3.0 in /home/bkwan27/anaconda3/lib/python3.10/site-packages (from aiohttp->datasets==2.19.2->-r requirements.txt (line 2)) (2.5.0)\n",
            "Requirement already satisfied: aiosignal>=1.1.2 in /home/bkwan27/anaconda3/lib/python3.10/site-packages (from aiohttp->datasets==2.19.2->-r requirements.txt (line 2)) (1.3.2)\n",
            "Requirement already satisfied: async-timeout<6.0,>=4.0 in /home/bkwan27/anaconda3/lib/python3.10/site-packages (from aiohttp->datasets==2.19.2->-r requirements.txt (line 2)) (5.0.1)\n",
            "Requirement already satisfied: frozenlist>=1.1.1 in /home/bkwan27/anaconda3/lib/python3.10/site-packages (from aiohttp->datasets==2.19.2->-r requirements.txt (line 2)) (1.5.0)\n",
            "Requirement already satisfied: multidict<7.0,>=4.5 in /home/bkwan27/anaconda3/lib/python3.10/site-packages (from aiohttp->datasets==2.19.2->-r requirements.txt (line 2)) (6.1.0)\n",
            "Requirement already satisfied: propcache>=0.2.0 in /home/bkwan27/anaconda3/lib/python3.10/site-packages (from aiohttp->datasets==2.19.2->-r requirements.txt (line 2)) (0.3.0)\n",
            "Requirement already satisfied: yarl<2.0,>=1.17.0 in /home/bkwan27/anaconda3/lib/python3.10/site-packages (from aiohttp->datasets==2.19.2->-r requirements.txt (line 2)) (1.18.3)\n",
            "Requirement already satisfied: decorator in /home/bkwan27/anaconda3/lib/python3.10/site-packages (from mne>=1.5->mne-bids==0.15.0->-r requirements.txt (line 8)) (5.1.1)\n",
            "Requirement already satisfied: lazy-loader>=0.3 in /home/bkwan27/anaconda3/lib/python3.10/site-packages (from mne>=1.5->mne-bids==0.15.0->-r requirements.txt (line 8)) (0.4)\n",
            "Requirement already satisfied: matplotlib>=3.6 in /home/bkwan27/anaconda3/lib/python3.10/site-packages (from mne>=1.5->mne-bids==0.15.0->-r requirements.txt (line 8)) (3.7.0)\n",
            "Requirement already satisfied: pooch>=1.5 in /home/bkwan27/anaconda3/lib/python3.10/site-packages (from mne>=1.5->mne-bids==0.15.0->-r requirements.txt (line 8)) (1.8.2)\n",
            "Requirement already satisfied: six>=1.5 in /home/bkwan27/anaconda3/lib/python3.10/site-packages (from python-dateutil>=2.8.2->pandas==2.0.3->-r requirements.txt (line 12)) (1.16.0)\n",
            "Requirement already satisfied: charset-normalizer<4,>=2 in /home/bkwan27/anaconda3/lib/python3.10/site-packages (from requests>=2.32.1->datasets==2.19.2->-r requirements.txt (line 2)) (2.0.4)\n",
            "Requirement already satisfied: urllib3<3,>=1.21.1 in /home/bkwan27/anaconda3/lib/python3.10/site-packages (from requests>=2.32.1->datasets==2.19.2->-r requirements.txt (line 2)) (1.26.14)\n",
            "Requirement already satisfied: certifi>=2017.4.17 in /home/bkwan27/anaconda3/lib/python3.10/site-packages (from requests>=2.32.1->datasets==2.19.2->-r requirements.txt (line 2)) (2022.12.7)\n",
            "Requirement already satisfied: cloudpickle>=1.2.1 in /home/bkwan27/anaconda3/lib/python3.10/site-packages (from submitit>=1.3.3->hydra-submitit-launcher==1.2.0->-r requirements.txt (line 5)) (2.0.0)\n",
            "Requirement already satisfied: absl-py>=0.4 in /home/bkwan27/anaconda3/lib/python3.10/site-packages (from tensorboard>=2.9.1->lightning-bolts==0.7.0->-r requirements.txt (line 7)) (2.1.0)\n",
            "Requirement already satisfied: grpcio>=1.48.2 in /home/bkwan27/anaconda3/lib/python3.10/site-packages (from tensorboard>=2.9.1->lightning-bolts==0.7.0->-r requirements.txt (line 7)) (1.70.0)\n",
            "Requirement already satisfied: markdown>=2.6.8 in /home/bkwan27/anaconda3/lib/python3.10/site-packages (from tensorboard>=2.9.1->lightning-bolts==0.7.0->-r requirements.txt (line 7)) (3.4.1)\n",
            "Requirement already satisfied: protobuf!=4.24.0,>=3.19.6 in /home/bkwan27/anaconda3/lib/python3.10/site-packages (from tensorboard>=2.9.1->lightning-bolts==0.7.0->-r requirements.txt (line 7)) (5.29.3)\n",
            "Requirement already satisfied: tensorboard-data-server<0.8.0,>=0.7.0 in /home/bkwan27/anaconda3/lib/python3.10/site-packages (from tensorboard>=2.9.1->lightning-bolts==0.7.0->-r requirements.txt (line 7)) (0.7.2)\n",
            "Requirement already satisfied: werkzeug>=1.0.1 in /home/bkwan27/anaconda3/lib/python3.10/site-packages (from tensorboard>=2.9.1->lightning-bolts==0.7.0->-r requirements.txt (line 7)) (2.2.2)\n",
            "Requirement already satisfied: pillow!=8.3.*,>=5.3.0 in /home/bkwan27/anaconda3/lib/python3.10/site-packages (from torchvision>=0.10.0->lightning-bolts==0.7.0->-r requirements.txt (line 7)) (9.4.0)\n",
            "Requirement already satisfied: distlib<1,>=0.3.7 in /home/bkwan27/anaconda3/lib/python3.10/site-packages (from virtualenv>=20.10.0->pre-commit==3.7.1->-r requirements.txt (line 14)) (0.3.9)\n",
            "Requirement already satisfied: platformdirs<5,>=3.9.1 in /home/bkwan27/anaconda3/lib/python3.10/site-packages (from virtualenv>=20.10.0->pre-commit==3.7.1->-r requirements.txt (line 14)) (4.3.6)\n",
            "Requirement already satisfied: MarkupSafe>=2.0 in /home/bkwan27/anaconda3/lib/python3.10/site-packages (from jinja2->torch==2.3.0->-r requirements.txt (line 24)) (2.1.1)\n",
            "Requirement already satisfied: mpmath>=0.19 in /home/bkwan27/anaconda3/lib/python3.10/site-packages/mpmath-1.2.1-py3.10.egg (from sympy->torch==2.3.0->-r requirements.txt (line 24)) (1.2.1)\n",
            "Requirement already satisfied: contourpy>=1.0.1 in /home/bkwan27/anaconda3/lib/python3.10/site-packages (from matplotlib>=3.6->mne>=1.5->mne-bids==0.15.0->-r requirements.txt (line 8)) (1.0.5)\n",
            "Requirement already satisfied: cycler>=0.10 in /home/bkwan27/anaconda3/lib/python3.10/site-packages (from matplotlib>=3.6->mne>=1.5->mne-bids==0.15.0->-r requirements.txt (line 8)) (0.11.0)\n",
            "Requirement already satisfied: fonttools>=4.22.0 in /home/bkwan27/anaconda3/lib/python3.10/site-packages (from matplotlib>=3.6->mne>=1.5->mne-bids==0.15.0->-r requirements.txt (line 8)) (4.25.0)\n",
            "Requirement already satisfied: kiwisolver>=1.0.1 in /home/bkwan27/anaconda3/lib/python3.10/site-packages (from matplotlib>=3.6->mne>=1.5->mne-bids==0.15.0->-r requirements.txt (line 8)) (1.4.4)\n",
            "Requirement already satisfied: pyparsing>=2.3.1 in /home/bkwan27/anaconda3/lib/python3.10/site-packages (from matplotlib>=3.6->mne>=1.5->mne-bids==0.15.0->-r requirements.txt (line 8)) (3.0.9)\n",
            "Downloading numpy-1.24.4-cp310-cp310-manylinux_2_17_x86_64.manylinux2014_x86_64.whl (17.3 MB)\n",
            "\u001b[2K   \u001b[90m━━━━━━━━━━━━━━━━━━━━━━━━━━━━━━━━━━━━━━━━\u001b[0m \u001b[32m17.3/17.3 MB\u001b[0m \u001b[31m58.0 MB/s\u001b[0m eta \u001b[36m0:00:00\u001b[0m:00:01\u001b[0m00:01\u001b[0m\n",
            "\u001b[?25hInstalling collected packages: numpy\n",
            "  Attempting uninstall: numpy\n",
            "    Found existing installation: numpy 2.0.2\n",
            "    Uninstalling numpy-2.0.2:\n",
            "      Successfully uninstalled numpy-2.0.2\n",
            "\u001b[33m  WARNING: Failed to remove contents in a temporary directory '/home/bkwan27/anaconda3/lib/python3.10/site-packages/~-mpy.libs'.\n",
            "  You can safely remove it manually.\u001b[0m\u001b[33m\n",
            "\u001b[0m\u001b[33m  WARNING: Failed to remove contents in a temporary directory '/home/bkwan27/anaconda3/lib/python3.10/site-packages/~-mpy'.\n",
            "  You can safely remove it manually.\u001b[0m\u001b[33m\n",
            "\u001b[0m\u001b[31mERROR: pip's dependency resolver does not currently take into account all the packages that are installed. This behaviour is the source of the following dependency conflicts.\n",
            "gensim 4.3.0 requires FuzzyTM>=0.4.0, which is not installed.\n",
            "numba 0.56.4 requires numpy<1.24,>=1.18, but you have numpy 1.24.4 which is incompatible.\n",
            "tensorflow 2.18.0 requires numpy<2.1.0,>=1.26.0, but you have numpy 1.24.4 which is incompatible.\u001b[0m\u001b[31m\n",
            "\u001b[0mSuccessfully installed numpy-1.24.4\n",
            "\n",
            "\u001b[1m[\u001b[0m\u001b[34;49mnotice\u001b[0m\u001b[1;39;49m]\u001b[0m\u001b[39;49m A new release of pip is available: \u001b[0m\u001b[31;49m24.0\u001b[0m\u001b[39;49m -> \u001b[0m\u001b[32;49m25.0.1\u001b[0m\n",
            "\u001b[1m[\u001b[0m\u001b[34;49mnotice\u001b[0m\u001b[1;39;49m]\u001b[0m\u001b[39;49m To update, run: \u001b[0m\u001b[32;49mpip install --upgrade pip\u001b[0m\n"
          ]
        }
      ],
      "source": [
        "!pip install -r requirements.txt"
      ]
    },
    {
      "cell_type": "markdown",
      "metadata": {
        "id": "nSoRzGXCfUtz"
      },
      "source": [
        "### Step 4: Start your experiments!\n",
        "\n",
        "- Remember to download and copy the dataset to this directory: `Your_Dir/emg2qwerty/data`.\n",
        "- You may now start your experiments with any scripts! Below are examples of single-user training and testing (greedy decoding).\n",
        "- **There are two ways to track the logs:**\n",
        "  - 1. Keep `--multirun`, and the logs will not be printed here, but they will be saved in the folder `logs`, e.g., `logs/2025-02-09/18-24-15/submitit_logs/`.\n",
        "  - 2. Comment out `--multirun` and the logs will be printed in this notebook, but they will not be saved."
      ]
    },
    {
      "cell_type": "markdown",
      "metadata": {
        "id": "IVuSn4rXhLJa"
      },
      "source": [
        "#### Training\n",
        "\n",
        "- The checkpoints are saved in the folder `logs`, e.g., `logs/2025-02-09/18-24-15/checkpoints/`."
      ]
    },
    {
      "cell_type": "code",
      "execution_count": 4,
      "metadata": {
        "id": "n84M6KLmkp2i"
      },
      "outputs": [
        {
          "name": "stdout",
          "output_type": "stream",
          "text": [
            "[2025-03-08 15:22:09,231][HYDRA] Submitit 'local' sweep output dir : logs/2025-03-08/15-22-09\n",
            "[2025-03-08 15:22:09,232][HYDRA] \t#0 : user=single_user trainer.accelerator=gpu trainer.devices=1\n"
          ]
        }
      ],
      "source": [
        "# Single-user training\n",
        "!python -m emg2qwerty.train \\\n",
        "  user=\"single_user\" \\\n",
        "  trainer.accelerator=gpu trainer.devices=1 \\\n",
        "  --multirun"
      ]
    },
    {
      "cell_type": "markdown",
      "metadata": {
        "id": "MGANotiwhngl"
      },
      "source": [
        "#### Testing:\n",
        "\n",
        "- Replace `Your_Path_to_Checkpoint` with your checkpoint path."
      ]
    },
    {
      "cell_type": "code",
      "execution_count": 22,
      "metadata": {
        "id": "p68aDt-8pmGj"
      },
      "outputs": [
        {
          "name": "stdout",
          "output_type": "stream",
          "text": [
            "2025-03-08 18:18:33.800530: E external/local_xla/xla/stream_executor/cuda/cuda_fft.cc:477] Unable to register cuFFT factory: Attempting to register factory for plugin cuFFT when one has already been registered\n",
            "WARNING: All log messages before absl::InitializeLog() is called are written to STDERR\n",
            "E0000 00:00:1741486713.811280   89448 cuda_dnn.cc:8310] Unable to register cuDNN factory: Attempting to register factory for plugin cuDNN when one has already been registered\n",
            "E0000 00:00:1741486713.814578   89448 cuda_blas.cc:1418] Unable to register cuBLAS factory: Attempting to register factory for plugin cuBLAS when one has already been registered\n",
            "2025-03-08 18:18:33.826179: I tensorflow/core/platform/cpu_feature_guard.cc:210] This TensorFlow binary is optimized to use available CPU instructions in performance-critical operations.\n",
            "To enable the following instructions: AVX2 FMA, in other operations, rebuild TensorFlow with the appropriate compiler flags.\n",
            "[2025-03-08 18:18:37,187][HYDRA] Submitit 'local' sweep output dir : logs/2025-03-08/18-18-37\n",
            "[2025-03-08 18:18:37,188][HYDRA] \t#0 : user=single_user checkpoint=/home/bkwan27/emg2qwerty/logs/2025-03-08/15-22-09/job0_trainer.devices\\=1\\,user\\=single_user/checkpoints/epoch\\=138-step\\=16680.ckpt train=False trainer.accelerator=gpu decoder=ctc_greedy\n"
          ]
        }
      ],
      "source": [
        "# Single-user testing\n",
        "!python -m emg2qwerty.train \\\n",
        "  user=\"single_user\" \\\n",
        "  checkpoint=\"/home/bkwan27/emg2qwerty/logs/2025-03-08/15-22-09/job0_trainer.devices\\=1\\,user\\=single_user/checkpoints/epoch\\=138-step\\=16680.ckpt\" \\\n",
        "  train=False trainer.accelerator=gpu \\\n",
        "  decoder=ctc_greedy \\\n",
        "  hydra.launcher.mem_gb=64 \\\n",
        " --multirun"
      ]
    }
  ],
  "metadata": {
    "accelerator": "GPU",
    "colab": {
      "gpuType": "T4",
      "provenance": []
    },
    "kernelspec": {
      "display_name": "base",
      "language": "python",
      "name": "python3"
    },
    "language_info": {
      "codemirror_mode": {
        "name": "ipython",
        "version": 3
      },
      "file_extension": ".py",
      "mimetype": "text/x-python",
      "name": "python",
      "nbconvert_exporter": "python",
      "pygments_lexer": "ipython3",
      "version": "3.10.9"
    }
  },
  "nbformat": 4,
  "nbformat_minor": 0
}
