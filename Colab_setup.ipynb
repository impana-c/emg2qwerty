{
  "cells": [
    {
      "cell_type": "markdown",
      "metadata": {
        "id": "IvxJOJu4XUIW"
      },
      "source": [
        "### Step 1: Mount the Google Drive\n",
        "\n",
        "Remember to use GPU runtime before mounting your Google Drive. (Runtime --> Change runtime type)."
      ]
    },
    {
      "cell_type": "code",
      "execution_count": 2,
      "metadata": {
        "id": "SCSU4HrvkVDq"
      },
      "outputs": [
        {
          "ename": "ModuleNotFoundError",
          "evalue": "No module named 'google.colab'",
          "output_type": "error",
          "traceback": [
            "\u001b[31m---------------------------------------------------------------------------\u001b[39m",
            "\u001b[31mModuleNotFoundError\u001b[39m                       Traceback (most recent call last)",
            "\u001b[36mCell\u001b[39m\u001b[36m \u001b[39m\u001b[32mIn[2]\u001b[39m\u001b[32m, line 1\u001b[39m\n\u001b[32m----> \u001b[39m\u001b[32m1\u001b[39m \u001b[38;5;28;01mfrom\u001b[39;00m\u001b[38;5;250m \u001b[39m\u001b[34;01mgoogle\u001b[39;00m\u001b[34;01m.\u001b[39;00m\u001b[34;01mcolab\u001b[39;00m\u001b[38;5;250m \u001b[39m\u001b[38;5;28;01mimport\u001b[39;00m drive\n\u001b[32m      2\u001b[39m drive.mount(\u001b[33m'\u001b[39m\u001b[33m/content/drive\u001b[39m\u001b[33m'\u001b[39m)\n",
            "\u001b[31mModuleNotFoundError\u001b[39m: No module named 'google.colab'"
          ]
        }
      ],
      "source": [
        "from google.colab import drive\n",
        "drive.mount('/content/drive')"
      ]
    },
    {
      "cell_type": "markdown",
      "metadata": {
        "id": "FyoSL1U8Xbjh"
      },
      "source": [
        "### Step 2: Open the project directory\n",
        "\n",
        "Replace `Your_Dir` with your own path."
      ]
    },
    {
      "cell_type": "code",
      "execution_count": null,
      "metadata": {
        "id": "-gfQ17SmkfOK"
      },
      "outputs": [],
      "source": [
        "cd Your_Dir/emg2qwerty"
      ]
    },
    {
      "cell_type": "markdown",
      "metadata": {
        "id": "eTzYfAOEYN4C"
      },
      "source": [
        "### Step 3: Install required packages\n",
        "\n",
        "After installing them, Colab will require you to restart the session."
      ]
    },
    {
      "cell_type": "code",
      "execution_count": 3,
      "metadata": {
        "id": "HFFKvhs4tAp5"
      },
      "outputs": [
        {
          "name": "stdout",
          "output_type": "stream",
          "text": [
            "Collecting git+https://github.com/stepanhruda/camel-kenlm.git@a6e906b2b30497dd999cb9c84c42c5111f8616e0 (from -r requirements.txt (line 31))\n",
            "  Cloning https://github.com/stepanhruda/camel-kenlm.git (to revision a6e906b2b30497dd999cb9c84c42c5111f8616e0) to /private/var/folders/8w/9bnsn3350fg0gqyn_316mr980000gn/T/pip-req-build-mbqu90s_\n",
            "  Running command git clone --filter=blob:none --quiet https://github.com/stepanhruda/camel-kenlm.git /private/var/folders/8w/9bnsn3350fg0gqyn_316mr980000gn/T/pip-req-build-mbqu90s_\n",
            "  Running command git rev-parse -q --verify 'sha^a6e906b2b30497dd999cb9c84c42c5111f8616e0'\n",
            "  Running command git fetch -q https://github.com/stepanhruda/camel-kenlm.git a6e906b2b30497dd999cb9c84c42c5111f8616e0\n",
            "  Running command git checkout -q a6e906b2b30497dd999cb9c84c42c5111f8616e0\n",
            "  Resolved https://github.com/stepanhruda/camel-kenlm.git to commit a6e906b2b30497dd999cb9c84c42c5111f8616e0\n",
            "  Installing build dependencies ... \u001b[?25ldone\n",
            "\u001b[?25h  Getting requirements to build wheel ... \u001b[?25ldone\n",
            "\u001b[?25h  Preparing metadata (pyproject.toml) ... \u001b[?25ldone\n",
            "\u001b[?25hRequirement already satisfied: click==8.1.7 in ./.venv/lib/python3.11/site-packages (from -r requirements.txt (line 1)) (8.1.7)\n",
            "Requirement already satisfied: datasets==2.19.2 in ./.venv/lib/python3.11/site-packages (from -r requirements.txt (line 2)) (2.19.2)\n",
            "Requirement already satisfied: h5py==3.11.0 in ./.venv/lib/python3.11/site-packages (from -r requirements.txt (line 3)) (3.11.0)\n",
            "Requirement already satisfied: hydra-core==1.3.2 in ./.venv/lib/python3.11/site-packages (from -r requirements.txt (line 4)) (1.3.2)\n",
            "Requirement already satisfied: hydra-submitit-launcher==1.2.0 in ./.venv/lib/python3.11/site-packages (from -r requirements.txt (line 5)) (1.2.0)\n",
            "Requirement already satisfied: hypothesis==6.97.6 in ./.venv/lib/python3.11/site-packages (from -r requirements.txt (line 6)) (6.97.6)\n",
            "Requirement already satisfied: lightning-bolts==0.7.0 in ./.venv/lib/python3.11/site-packages (from -r requirements.txt (line 7)) (0.7.0)\n",
            "Requirement already satisfied: mne-bids==0.15.0 in ./.venv/lib/python3.11/site-packages (from -r requirements.txt (line 8)) (0.15.0)\n",
            "Requirement already satisfied: nltk==3.8.1 in ./.venv/lib/python3.11/site-packages (from -r requirements.txt (line 9)) (3.8.1)\n",
            "Requirement already satisfied: numpy==1.24.4 in ./.venv/lib/python3.11/site-packages (from -r requirements.txt (line 10)) (1.24.4)\n",
            "Requirement already satisfied: omegaconf==2.3.0 in ./.venv/lib/python3.11/site-packages (from -r requirements.txt (line 11)) (2.3.0)\n",
            "Requirement already satisfied: pandas==2.0.3 in ./.venv/lib/python3.11/site-packages (from -r requirements.txt (line 12)) (2.0.3)\n",
            "Requirement already satisfied: pip==24.0 in ./.venv/lib/python3.11/site-packages (from -r requirements.txt (line 13)) (24.0)\n",
            "Requirement already satisfied: pre-commit==3.7.1 in ./.venv/lib/python3.11/site-packages (from -r requirements.txt (line 14)) (3.7.1)\n",
            "Requirement already satisfied: pytest-benchmark==4.0.0 in ./.venv/lib/python3.11/site-packages (from -r requirements.txt (line 15)) (4.0.0)\n",
            "Requirement already satisfied: pytest-cov==5.0.0 in ./.venv/lib/python3.11/site-packages (from -r requirements.txt (line 16)) (5.0.0)\n",
            "Requirement already satisfied: pytest-env==1.1.3 in ./.venv/lib/python3.11/site-packages (from -r requirements.txt (line 17)) (1.1.3)\n",
            "Requirement already satisfied: pytest-mock==3.14.0 in ./.venv/lib/python3.11/site-packages (from -r requirements.txt (line 18)) (3.14.0)\n",
            "Requirement already satisfied: pytest-rerunfailures==14.0 in ./.venv/lib/python3.11/site-packages (from -r requirements.txt (line 19)) (14.0)\n",
            "Requirement already satisfied: pytest-xdist==3.5.0 in ./.venv/lib/python3.11/site-packages (from pytest-xdist[psutil]==3.5.0->-r requirements.txt (line 20)) (3.5.0)\n",
            "Requirement already satisfied: pytest==7.4.4 in ./.venv/lib/python3.11/site-packages (from -r requirements.txt (line 21)) (7.4.4)\n",
            "Requirement already satisfied: python-levenshtein==0.12.2 in ./.venv/lib/python3.11/site-packages (from -r requirements.txt (line 22)) (0.12.2)\n",
            "Requirement already satisfied: pytorch-lightning==1.8.6 in ./.venv/lib/python3.11/site-packages (from -r requirements.txt (line 23)) (1.8.6)\n",
            "Requirement already satisfied: torch==2.3.0 in ./.venv/lib/python3.11/site-packages (from -r requirements.txt (line 24)) (2.3.0)\n",
            "Requirement already satisfied: scipy==1.10.1 in ./.venv/lib/python3.11/site-packages (from -r requirements.txt (line 25)) (1.10.1)\n",
            "Requirement already satisfied: setuptools==69.5.1 in ./.venv/lib/python3.11/site-packages (from -r requirements.txt (line 26)) (69.5.1)\n",
            "Requirement already satisfied: torchaudio==2.3.0 in ./.venv/lib/python3.11/site-packages (from -r requirements.txt (line 27)) (2.3.0)\n",
            "Requirement already satisfied: torchmetrics==0.11.4 in ./.venv/lib/python3.11/site-packages (from -r requirements.txt (line 28)) (0.11.4)\n",
            "Requirement already satisfied: trio==0.23.2 in ./.venv/lib/python3.11/site-packages (from -r requirements.txt (line 29)) (0.23.2)\n",
            "Requirement already satisfied: unidecode==1.3.8 in ./.venv/lib/python3.11/site-packages (from -r requirements.txt (line 30)) (1.3.8)\n",
            "Requirement already satisfied: filelock in ./.venv/lib/python3.11/site-packages (from datasets==2.19.2->-r requirements.txt (line 2)) (3.17.0)\n",
            "Requirement already satisfied: pyarrow>=12.0.0 in ./.venv/lib/python3.11/site-packages (from datasets==2.19.2->-r requirements.txt (line 2)) (19.0.1)\n",
            "Requirement already satisfied: pyarrow-hotfix in ./.venv/lib/python3.11/site-packages (from datasets==2.19.2->-r requirements.txt (line 2)) (0.6)\n",
            "Requirement already satisfied: dill<0.3.9,>=0.3.0 in ./.venv/lib/python3.11/site-packages (from datasets==2.19.2->-r requirements.txt (line 2)) (0.3.8)\n",
            "Requirement already satisfied: requests>=2.32.1 in ./.venv/lib/python3.11/site-packages (from datasets==2.19.2->-r requirements.txt (line 2)) (2.32.3)\n",
            "Requirement already satisfied: tqdm>=4.62.1 in ./.venv/lib/python3.11/site-packages (from datasets==2.19.2->-r requirements.txt (line 2)) (4.67.1)\n",
            "Requirement already satisfied: xxhash in ./.venv/lib/python3.11/site-packages (from datasets==2.19.2->-r requirements.txt (line 2)) (3.5.0)\n",
            "Requirement already satisfied: multiprocess in ./.venv/lib/python3.11/site-packages (from datasets==2.19.2->-r requirements.txt (line 2)) (0.70.16)\n",
            "Requirement already satisfied: fsspec<=2024.3.1,>=2023.1.0 in ./.venv/lib/python3.11/site-packages (from fsspec[http]<=2024.3.1,>=2023.1.0->datasets==2.19.2->-r requirements.txt (line 2)) (2024.3.1)\n",
            "Requirement already satisfied: aiohttp in ./.venv/lib/python3.11/site-packages (from datasets==2.19.2->-r requirements.txt (line 2)) (3.11.13)\n",
            "Requirement already satisfied: huggingface-hub>=0.21.2 in ./.venv/lib/python3.11/site-packages (from datasets==2.19.2->-r requirements.txt (line 2)) (0.29.2)\n",
            "Requirement already satisfied: packaging in ./.venv/lib/python3.11/site-packages (from datasets==2.19.2->-r requirements.txt (line 2)) (24.2)\n",
            "Requirement already satisfied: pyyaml>=5.1 in ./.venv/lib/python3.11/site-packages (from datasets==2.19.2->-r requirements.txt (line 2)) (6.0.2)\n",
            "Requirement already satisfied: antlr4-python3-runtime==4.9.* in ./.venv/lib/python3.11/site-packages (from hydra-core==1.3.2->-r requirements.txt (line 4)) (4.9.3)\n",
            "Requirement already satisfied: submitit>=1.3.3 in ./.venv/lib/python3.11/site-packages (from hydra-submitit-launcher==1.2.0->-r requirements.txt (line 5)) (1.5.2)\n",
            "Requirement already satisfied: attrs>=22.2.0 in ./.venv/lib/python3.11/site-packages (from hypothesis==6.97.6->-r requirements.txt (line 6)) (25.1.0)\n",
            "Requirement already satisfied: sortedcontainers<3.0.0,>=2.1.0 in ./.venv/lib/python3.11/site-packages (from hypothesis==6.97.6->-r requirements.txt (line 6)) (2.4.0)\n",
            "Requirement already satisfied: lightning-utilities>0.3.1 in ./.venv/lib/python3.11/site-packages (from lightning-bolts==0.7.0->-r requirements.txt (line 7)) (0.13.1)\n",
            "Requirement already satisfied: torchvision>=0.10.0 in ./.venv/lib/python3.11/site-packages (from lightning-bolts==0.7.0->-r requirements.txt (line 7)) (0.18.0)\n",
            "Requirement already satisfied: tensorboard>=2.9.1 in ./.venv/lib/python3.11/site-packages (from lightning-bolts==0.7.0->-r requirements.txt (line 7)) (2.19.0)\n",
            "Requirement already satisfied: mne>=1.5 in ./.venv/lib/python3.11/site-packages (from mne-bids==0.15.0->-r requirements.txt (line 8)) (1.9.0)\n",
            "Requirement already satisfied: joblib in ./.venv/lib/python3.11/site-packages (from nltk==3.8.1->-r requirements.txt (line 9)) (1.4.2)\n",
            "Requirement already satisfied: regex>=2021.8.3 in ./.venv/lib/python3.11/site-packages (from nltk==3.8.1->-r requirements.txt (line 9)) (2024.11.6)\n",
            "Requirement already satisfied: python-dateutil>=2.8.2 in ./.venv/lib/python3.11/site-packages (from pandas==2.0.3->-r requirements.txt (line 12)) (2.9.0.post0)\n",
            "Requirement already satisfied: pytz>=2020.1 in ./.venv/lib/python3.11/site-packages (from pandas==2.0.3->-r requirements.txt (line 12)) (2025.1)\n",
            "Requirement already satisfied: tzdata>=2022.1 in ./.venv/lib/python3.11/site-packages (from pandas==2.0.3->-r requirements.txt (line 12)) (2025.1)\n",
            "Requirement already satisfied: cfgv>=2.0.0 in ./.venv/lib/python3.11/site-packages (from pre-commit==3.7.1->-r requirements.txt (line 14)) (3.4.0)\n",
            "Requirement already satisfied: identify>=1.0.0 in ./.venv/lib/python3.11/site-packages (from pre-commit==3.7.1->-r requirements.txt (line 14)) (2.6.8)\n",
            "Requirement already satisfied: nodeenv>=0.11.1 in ./.venv/lib/python3.11/site-packages (from pre-commit==3.7.1->-r requirements.txt (line 14)) (1.9.1)\n",
            "Requirement already satisfied: virtualenv>=20.10.0 in ./.venv/lib/python3.11/site-packages (from pre-commit==3.7.1->-r requirements.txt (line 14)) (20.29.2)\n",
            "Requirement already satisfied: py-cpuinfo in ./.venv/lib/python3.11/site-packages (from pytest-benchmark==4.0.0->-r requirements.txt (line 15)) (9.0.0)\n",
            "Requirement already satisfied: coverage>=5.2.1 in ./.venv/lib/python3.11/site-packages (from coverage[toml]>=5.2.1->pytest-cov==5.0.0->-r requirements.txt (line 16)) (7.6.12)\n",
            "Requirement already satisfied: execnet>=1.1 in ./.venv/lib/python3.11/site-packages (from pytest-xdist==3.5.0->pytest-xdist[psutil]==3.5.0->-r requirements.txt (line 20)) (2.1.1)\n",
            "Requirement already satisfied: iniconfig in ./.venv/lib/python3.11/site-packages (from pytest==7.4.4->-r requirements.txt (line 21)) (2.0.0)\n",
            "Requirement already satisfied: pluggy<2.0,>=0.12 in ./.venv/lib/python3.11/site-packages (from pytest==7.4.4->-r requirements.txt (line 21)) (1.5.0)\n",
            "Requirement already satisfied: tensorboardX>=2.2 in ./.venv/lib/python3.11/site-packages (from pytorch-lightning==1.8.6->-r requirements.txt (line 23)) (2.6.2.2)\n",
            "Requirement already satisfied: typing-extensions>=4.0.0 in ./.venv/lib/python3.11/site-packages (from pytorch-lightning==1.8.6->-r requirements.txt (line 23)) (4.12.2)\n",
            "Requirement already satisfied: sympy in ./.venv/lib/python3.11/site-packages (from torch==2.3.0->-r requirements.txt (line 24)) (1.13.3)\n",
            "Requirement already satisfied: networkx in ./.venv/lib/python3.11/site-packages (from torch==2.3.0->-r requirements.txt (line 24)) (3.4.2)\n",
            "Requirement already satisfied: jinja2 in ./.venv/lib/python3.11/site-packages (from torch==2.3.0->-r requirements.txt (line 24)) (3.1.6)\n",
            "Requirement already satisfied: idna in ./.venv/lib/python3.11/site-packages (from trio==0.23.2->-r requirements.txt (line 29)) (3.10)\n",
            "Requirement already satisfied: outcome in ./.venv/lib/python3.11/site-packages (from trio==0.23.2->-r requirements.txt (line 29)) (1.3.0.post0)\n",
            "Requirement already satisfied: sniffio>=1.3.0 in ./.venv/lib/python3.11/site-packages (from trio==0.23.2->-r requirements.txt (line 29)) (1.3.1)\n",
            "Requirement already satisfied: psutil>=3.0 in ./.venv/lib/python3.11/site-packages (from pytest-xdist[psutil]==3.5.0->-r requirements.txt (line 20)) (7.0.0)\n",
            "Requirement already satisfied: aiohappyeyeballs>=2.3.0 in ./.venv/lib/python3.11/site-packages (from aiohttp->datasets==2.19.2->-r requirements.txt (line 2)) (2.4.8)\n",
            "Requirement already satisfied: aiosignal>=1.1.2 in ./.venv/lib/python3.11/site-packages (from aiohttp->datasets==2.19.2->-r requirements.txt (line 2)) (1.3.2)\n",
            "Requirement already satisfied: frozenlist>=1.1.1 in ./.venv/lib/python3.11/site-packages (from aiohttp->datasets==2.19.2->-r requirements.txt (line 2)) (1.5.0)\n",
            "Requirement already satisfied: multidict<7.0,>=4.5 in ./.venv/lib/python3.11/site-packages (from aiohttp->datasets==2.19.2->-r requirements.txt (line 2)) (6.1.0)\n",
            "Requirement already satisfied: propcache>=0.2.0 in ./.venv/lib/python3.11/site-packages (from aiohttp->datasets==2.19.2->-r requirements.txt (line 2)) (0.3.0)\n",
            "Requirement already satisfied: yarl<2.0,>=1.17.0 in ./.venv/lib/python3.11/site-packages (from aiohttp->datasets==2.19.2->-r requirements.txt (line 2)) (1.18.3)\n",
            "Requirement already satisfied: decorator in ./.venv/lib/python3.11/site-packages (from mne>=1.5->mne-bids==0.15.0->-r requirements.txt (line 8)) (5.2.1)\n",
            "Requirement already satisfied: lazy-loader>=0.3 in ./.venv/lib/python3.11/site-packages (from mne>=1.5->mne-bids==0.15.0->-r requirements.txt (line 8)) (0.4)\n",
            "Requirement already satisfied: matplotlib>=3.6 in ./.venv/lib/python3.11/site-packages (from mne>=1.5->mne-bids==0.15.0->-r requirements.txt (line 8)) (3.10.1)\n",
            "Requirement already satisfied: pooch>=1.5 in ./.venv/lib/python3.11/site-packages (from mne>=1.5->mne-bids==0.15.0->-r requirements.txt (line 8)) (1.8.2)\n",
            "Requirement already satisfied: six>=1.5 in ./.venv/lib/python3.11/site-packages (from python-dateutil>=2.8.2->pandas==2.0.3->-r requirements.txt (line 12)) (1.17.0)\n",
            "Requirement already satisfied: charset-normalizer<4,>=2 in ./.venv/lib/python3.11/site-packages (from requests>=2.32.1->datasets==2.19.2->-r requirements.txt (line 2)) (3.4.1)\n",
            "Requirement already satisfied: urllib3<3,>=1.21.1 in ./.venv/lib/python3.11/site-packages (from requests>=2.32.1->datasets==2.19.2->-r requirements.txt (line 2)) (2.3.0)\n",
            "Requirement already satisfied: certifi>=2017.4.17 in ./.venv/lib/python3.11/site-packages (from requests>=2.32.1->datasets==2.19.2->-r requirements.txt (line 2)) (2025.1.31)\n",
            "Requirement already satisfied: cloudpickle>=1.2.1 in ./.venv/lib/python3.11/site-packages (from submitit>=1.3.3->hydra-submitit-launcher==1.2.0->-r requirements.txt (line 5)) (3.1.1)\n",
            "Requirement already satisfied: absl-py>=0.4 in ./.venv/lib/python3.11/site-packages (from tensorboard>=2.9.1->lightning-bolts==0.7.0->-r requirements.txt (line 7)) (2.1.0)\n",
            "Requirement already satisfied: grpcio>=1.48.2 in ./.venv/lib/python3.11/site-packages (from tensorboard>=2.9.1->lightning-bolts==0.7.0->-r requirements.txt (line 7)) (1.70.0)\n",
            "Requirement already satisfied: markdown>=2.6.8 in ./.venv/lib/python3.11/site-packages (from tensorboard>=2.9.1->lightning-bolts==0.7.0->-r requirements.txt (line 7)) (3.7)\n",
            "Requirement already satisfied: protobuf!=4.24.0,>=3.19.6 in ./.venv/lib/python3.11/site-packages (from tensorboard>=2.9.1->lightning-bolts==0.7.0->-r requirements.txt (line 7)) (6.30.0)\n",
            "Requirement already satisfied: tensorboard-data-server<0.8.0,>=0.7.0 in ./.venv/lib/python3.11/site-packages (from tensorboard>=2.9.1->lightning-bolts==0.7.0->-r requirements.txt (line 7)) (0.7.2)\n",
            "Requirement already satisfied: werkzeug>=1.0.1 in ./.venv/lib/python3.11/site-packages (from tensorboard>=2.9.1->lightning-bolts==0.7.0->-r requirements.txt (line 7)) (3.1.3)\n",
            "Requirement already satisfied: pillow!=8.3.*,>=5.3.0 in ./.venv/lib/python3.11/site-packages (from torchvision>=0.10.0->lightning-bolts==0.7.0->-r requirements.txt (line 7)) (11.1.0)\n",
            "Requirement already satisfied: distlib<1,>=0.3.7 in ./.venv/lib/python3.11/site-packages (from virtualenv>=20.10.0->pre-commit==3.7.1->-r requirements.txt (line 14)) (0.3.9)\n",
            "Requirement already satisfied: platformdirs<5,>=3.9.1 in ./.venv/lib/python3.11/site-packages (from virtualenv>=20.10.0->pre-commit==3.7.1->-r requirements.txt (line 14)) (4.3.6)\n",
            "Requirement already satisfied: MarkupSafe>=2.0 in ./.venv/lib/python3.11/site-packages (from jinja2->torch==2.3.0->-r requirements.txt (line 24)) (3.0.2)\n",
            "Requirement already satisfied: mpmath<1.4,>=1.1.0 in ./.venv/lib/python3.11/site-packages (from sympy->torch==2.3.0->-r requirements.txt (line 24)) (1.3.0)\n",
            "Requirement already satisfied: contourpy>=1.0.1 in ./.venv/lib/python3.11/site-packages (from matplotlib>=3.6->mne>=1.5->mne-bids==0.15.0->-r requirements.txt (line 8)) (1.3.1)\n",
            "Requirement already satisfied: cycler>=0.10 in ./.venv/lib/python3.11/site-packages (from matplotlib>=3.6->mne>=1.5->mne-bids==0.15.0->-r requirements.txt (line 8)) (0.12.1)\n",
            "Requirement already satisfied: fonttools>=4.22.0 in ./.venv/lib/python3.11/site-packages (from matplotlib>=3.6->mne>=1.5->mne-bids==0.15.0->-r requirements.txt (line 8)) (4.56.0)\n",
            "Requirement already satisfied: kiwisolver>=1.3.1 in ./.venv/lib/python3.11/site-packages (from matplotlib>=3.6->mne>=1.5->mne-bids==0.15.0->-r requirements.txt (line 8)) (1.4.8)\n",
            "Requirement already satisfied: pyparsing>=2.3.1 in ./.venv/lib/python3.11/site-packages (from matplotlib>=3.6->mne>=1.5->mne-bids==0.15.0->-r requirements.txt (line 8)) (3.2.1)\n",
            "\n",
            "\u001b[1m[\u001b[0m\u001b[34;49mnotice\u001b[0m\u001b[1;39;49m]\u001b[0m\u001b[39;49m A new release of pip is available: \u001b[0m\u001b[31;49m24.0\u001b[0m\u001b[39;49m -> \u001b[0m\u001b[32;49m25.0.1\u001b[0m\n",
            "\u001b[1m[\u001b[0m\u001b[34;49mnotice\u001b[0m\u001b[1;39;49m]\u001b[0m\u001b[39;49m To update, run: \u001b[0m\u001b[32;49mpip install --upgrade pip\u001b[0m\n"
          ]
        }
      ],
      "source": [
        "!pip install -r requirements.txt"
      ]
    },
    {
      "cell_type": "markdown",
      "metadata": {
        "id": "nSoRzGXCfUtz"
      },
      "source": [
        "### Step 4: Start your experiments!\n",
        "\n",
        "- Remember to download and copy the dataset to this directory: `Your_Dir/emg2qwerty/data`.\n",
        "- You may now start your experiments with any scripts! Below are examples of single-user training and testing (greedy decoding).\n",
        "- **There are two ways to track the logs:**\n",
        "  - 1. Keep `--multirun`, and the logs will not be printed here, but they will be saved in the folder `logs`, e.g., `logs/2025-02-09/18-24-15/submitit_logs/`.\n",
        "  - 2. Comment out `--multirun` and the logs will be printed in this notebook, but they will not be saved."
      ]
    },
    {
      "cell_type": "markdown",
      "metadata": {
        "id": "IVuSn4rXhLJa"
      },
      "source": [
        "#### Training\n",
        "\n",
        "- The checkpoints are saved in the folder `logs`, e.g., `logs/2025-02-09/18-24-15/checkpoints/`."
      ]
    },
    {
      "cell_type": "code",
      "execution_count": null,
      "metadata": {
        "id": "n84M6KLmkp2i"
      },
      "outputs": [
        {
          "name": "stdout",
          "output_type": "stream",
          "text": [
            "2025-03-12 00:30:59.554023: E external/local_xla/xla/stream_executor/cuda/cuda_fft.cc:477] Unable to register cuFFT factory: Attempting to register factory for plugin cuFFT when one has already been registered\n",
            "WARNING: All log messages before absl::InitializeLog() is called are written to STDERR\n",
            "E0000 00:00:1741764659.566768 1072856 cuda_dnn.cc:8310] Unable to register cuDNN factory: Attempting to register factory for plugin cuDNN when one has already been registered\n",
            "E0000 00:00:1741764659.570801 1072856 cuda_blas.cc:1418] Unable to register cuBLAS factory: Attempting to register factory for plugin cuBLAS when one has already been registered\n",
            "2025-03-12 00:30:59.584823: I tensorflow/core/platform/cpu_feature_guard.cc:210] This TensorFlow binary is optimized to use available CPU instructions in performance-critical operations.\n",
            "To enable the following instructions: AVX2 FMA, in other operations, rebuild TensorFlow with the appropriate compiler flags.\n",
            "[2025-03-12 00:31:03,794][__main__][INFO] - \n",
            "Config:\n",
            "user: single_user\n",
            "dataset:\n",
            "  train:\n",
            "  - user: 89335547\n",
            "    session: 2021-06-03-1622765527-keystrokes-dca-study@1-0efbe614-9ae6-4131-9192-4398359b4f5f\n",
            "  - user: 89335547\n",
            "    session: 2021-06-02-1622681518-keystrokes-dca-study@1-0efbe614-9ae6-4131-9192-4398359b4f5f\n",
            "  - user: 89335547\n",
            "    session: 2021-06-04-1622863166-keystrokes-dca-study@1-0efbe614-9ae6-4131-9192-4398359b4f5f\n",
            "  - user: 89335547\n",
            "    session: 2021-07-22-1627003020-keystrokes-dca-study@1-0efbe614-9ae6-4131-9192-4398359b4f5f\n",
            "  - user: 89335547\n",
            "    session: 2021-07-21-1626916256-keystrokes-dca-study@1-0efbe614-9ae6-4131-9192-4398359b4f5f\n",
            "  - user: 89335547\n",
            "    session: 2021-07-22-1627004019-keystrokes-dca-study@1-0efbe614-9ae6-4131-9192-4398359b4f5f\n",
            "  - user: 89335547\n",
            "    session: 2021-06-05-1622885888-keystrokes-dca-study@1-0efbe614-9ae6-4131-9192-4398359b4f5f\n",
            "  - user: 89335547\n",
            "    session: 2021-06-02-1622679967-keystrokes-dca-study@1-0efbe614-9ae6-4131-9192-4398359b4f5f\n",
            "  - user: 89335547\n",
            "    session: 2021-06-03-1622764398-keystrokes-dca-study@1-0efbe614-9ae6-4131-9192-4398359b4f5f\n",
            "  - user: 89335547\n",
            "    session: 2021-07-21-1626917264-keystrokes-dca-study@1-0efbe614-9ae6-4131-9192-4398359b4f5f\n",
            "  - user: 89335547\n",
            "    session: 2021-06-05-1622889105-keystrokes-dca-study@1-0efbe614-9ae6-4131-9192-4398359b4f5f\n",
            "  - user: 89335547\n",
            "    session: 2021-06-03-1622766673-keystrokes-dca-study@1-0efbe614-9ae6-4131-9192-4398359b4f5f\n",
            "  - user: 89335547\n",
            "    session: 2021-06-04-1622861066-keystrokes-dca-study@1-0efbe614-9ae6-4131-9192-4398359b4f5f\n",
            "  - user: 89335547\n",
            "    session: 2021-07-22-1627001995-keystrokes-dca-study@1-0efbe614-9ae6-4131-9192-4398359b4f5f\n",
            "  - user: 89335547\n",
            "    session: 2021-06-05-1622884635-keystrokes-dca-study@1-0efbe614-9ae6-4131-9192-4398359b4f5f\n",
            "  - user: 89335547\n",
            "    session: 2021-07-21-1626915176-keystrokes-dca-study@1-0efbe614-9ae6-4131-9192-4398359b4f5f\n",
            "  val:\n",
            "  - user: 89335547\n",
            "    session: 2021-06-04-1622862148-keystrokes-dca-study@1-0efbe614-9ae6-4131-9192-4398359b4f5f\n",
            "  test:\n",
            "  - user: 89335547\n",
            "    session: 2021-06-02-1622682789-keystrokes-dca-study@1-0efbe614-9ae6-4131-9192-4398359b4f5f\n",
            "  root: ${hydra:runtime.cwd}/data\n",
            "to_tensor:\n",
            "  _target_: emg2qwerty.transforms.ToTensor\n",
            "  fields:\n",
            "  - emg_left\n",
            "  - emg_right\n",
            "band_rotation:\n",
            "  _target_: emg2qwerty.transforms.ForEach\n",
            "  transform:\n",
            "    _target_: emg2qwerty.transforms.RandomBandRotation\n",
            "    offsets:\n",
            "    - -1\n",
            "    - 0\n",
            "    - 1\n",
            "temporal_jitter:\n",
            "  _target_: emg2qwerty.transforms.TemporalAlignmentJitter\n",
            "  max_offset: 120\n",
            "logspec:\n",
            "  _target_: emg2qwerty.transforms.LogSpectrogram\n",
            "  n_fft: 64\n",
            "  hop_length: 16\n",
            "specaug:\n",
            "  _target_: emg2qwerty.transforms.SpecAugment\n",
            "  n_time_masks: 3\n",
            "  time_mask_param: 25\n",
            "  n_freq_masks: 2\n",
            "  freq_mask_param: 4\n",
            "transforms:\n",
            "  train:\n",
            "  - ${to_tensor}\n",
            "  - ${band_rotation}\n",
            "  - ${temporal_jitter}\n",
            "  - ${logspec}\n",
            "  - ${specaug}\n",
            "  val:\n",
            "  - ${to_tensor}\n",
            "  - ${logspec}\n",
            "  test: ${transforms.val}\n",
            "module:\n",
            "  _target_: emg2qwerty.gru_cnn.GRUCNNCTCModule\n",
            "  in_features: 528\n",
            "  mlp_features:\n",
            "  - 384\n",
            "  block_channels:\n",
            "  - 24\n",
            "  - 24\n",
            "  - 24\n",
            "  - 24\n",
            "  kernel_width: 32\n",
            "datamodule:\n",
            "  _target_: emg2qwerty.lightning.WindowedEMGDataModule\n",
            "  window_length: 8000\n",
            "  padding:\n",
            "  - 1800\n",
            "  - 200\n",
            "optimizer:\n",
            "  _target_: torch.optim.AdamW\n",
            "  lr: 0.001\n",
            "lr_scheduler:\n",
            "  scheduler:\n",
            "    _target_: pl_bolts.optimizers.lr_scheduler.LinearWarmupCosineAnnealingLR\n",
            "    warmup_epochs: 10\n",
            "    max_epochs: ${trainer.max_epochs}\n",
            "    warmup_start_lr: 1.0e-08\n",
            "    eta_min: 1.0e-06\n",
            "  interval: epoch\n",
            "decoder:\n",
            "  _target_: emg2qwerty.decoder.CTCGreedyDecoder\n",
            "seed: 1501\n",
            "batch_size: 32\n",
            "num_workers: 4\n",
            "train: true\n",
            "checkpoint: null\n",
            "monitor_metric: val/CER\n",
            "monitor_mode: min\n",
            "trainer:\n",
            "  accelerator: gpu\n",
            "  devices: 1\n",
            "  num_nodes: 1\n",
            "  max_epochs: 150\n",
            "  default_root_dir: ${hydra:runtime.output_dir}\n",
            "callbacks:\n",
            "- _target_: pytorch_lightning.callbacks.LearningRateMonitor\n",
            "- _target_: pytorch_lightning.callbacks.ModelCheckpoint\n",
            "  dirpath: ${hydra:runtime.output_dir}/checkpoints\n",
            "  monitor: ${monitor_metric}\n",
            "  mode: ${monitor_mode}\n",
            "  save_last: true\n",
            "  verbose: true\n",
            "\n",
            "Global seed set to 1501\n",
            "[2025-03-12 00:31:03,798][__main__][INFO] - Instantiating LightningModule {'_target_': 'emg2qwerty.gru_cnn.GRUCNNCTCModule', 'in_features': 528, 'mlp_features': [384], 'block_channels': [24, 24, 24, 24], 'kernel_width': 32}\n",
            "[2025-03-12 00:31:03,855][__main__][INFO] - Instantiating LightningDataModule {'_target_': 'emg2qwerty.lightning.WindowedEMGDataModule', 'window_length': 8000, 'padding': [1800, 200]}\n",
            "GPU available: True (cuda), used: True\n",
            "TPU available: False, using: 0 TPU cores\n",
            "IPU available: False, using: 0 IPUs\n",
            "HPU available: False, using: 0 HPUs\n",
            "Missing logger folder: /home/bkwan27/emg2qwerty/logs/2025-03-12/00-31-03/lightning_logs\n",
            "LOCAL_RANK: 0 - CUDA_VISIBLE_DEVICES: [0,1,2,3]\n",
            "/home/bkwan27/anaconda3/lib/python3.10/site-packages/pl_bolts/__init__.py:11: FutureWarning: In the future `np.object` will be defined as the corresponding NumPy scalar.\n",
            "  if not hasattr(numpy, tp_name):\n",
            "/home/bkwan27/anaconda3/lib/python3.10/site-packages/pl_bolts/__init__.py:11: FutureWarning: In the future `np.bool` will be defined as the corresponding NumPy scalar.\n",
            "  if not hasattr(numpy, tp_name):\n",
            "/home/bkwan27/anaconda3/lib/python3.10/site-packages/pl_bolts/models/self_supervised/amdim/amdim_module.py:34: UnderReviewWarning: The feature generate_power_seq is currently marked under review. The compatibility with other Lightning projects is not guaranteed and API may change at any time. The API and functionality may change without warning in future releases. More details: https://lightning-bolts.readthedocs.io/en/latest/stability.html\n",
            "  \"lr_options\": generate_power_seq(LEARNING_RATE_CIFAR, 11),\n",
            "/home/bkwan27/anaconda3/lib/python3.10/site-packages/pl_bolts/models/self_supervised/amdim/amdim_module.py:92: UnderReviewWarning: The feature FeatureMapContrastiveTask is currently marked under review. The compatibility with other Lightning projects is not guaranteed and API may change at any time. The API and functionality may change without warning in future releases. More details: https://lightning-bolts.readthedocs.io/en/latest/stability.html\n",
            "  contrastive_task: Union[FeatureMapContrastiveTask] = FeatureMapContrastiveTask(\"01, 02, 11\"),\n",
            "/home/bkwan27/anaconda3/lib/python3.10/site-packages/pl_bolts/losses/self_supervised_learning.py:228: UnderReviewWarning: The feature AmdimNCELoss is currently marked under review. The compatibility with other Lightning projects is not guaranteed and API may change at any time. The API and functionality may change without warning in future releases. More details: https://lightning-bolts.readthedocs.io/en/latest/stability.html\n",
            "  self.nce_loss = AmdimNCELoss(tclip)\n",
            "/home/bkwan27/anaconda3/lib/python3.10/site-packages/hydra/_internal/instantiate/_instantiate2.py:92: UnderReviewWarning: The feature LinearWarmupCosineAnnealingLR is currently marked under review. The compatibility with other Lightning projects is not guaranteed and API may change at any time. The API and functionality may change without warning in future releases. More details: https://lightning-bolts.readthedocs.io/en/latest/stability.html\n",
            "  return _target_(*args, **kwargs)\n",
            "\n",
            "  | Name     | Type       | Params\n",
            "----------------------------------------\n",
            "0 | model    | Sequential | 7.2 M \n",
            "1 | ctc_loss | CTCLoss    | 0     \n",
            "2 | metrics  | ModuleDict | 0     \n",
            "----------------------------------------\n",
            "7.2 M     Trainable params\n",
            "0         Non-trainable params\n",
            "7.2 M     Total params\n",
            "28.807    Total estimated model params size (MB)\n",
            "Sanity Checking DataLoader 0:   0%|                       | 0/2 [00:00<?, ?it/s]/home/bkwan27/anaconda3/lib/python3.10/site-packages/torch/nn/modules/conv.py:456: UserWarning: Plan failed with a cudnnException: CUDNN_BACKEND_EXECUTION_PLAN_DESCRIPTOR: cudnnFinalize Descriptor Failed cudnn_status: CUDNN_STATUS_NOT_SUPPORTED (Triggered internally at ../aten/src/ATen/native/cudnn/Conv_v8.cpp:919.)\n",
            "  return F.conv2d(input, weight, bias, self.stride,\n",
            "Epoch 0:   0%|                                          | 0/127 [00:00<?, ?it/s]/home/bkwan27/anaconda3/lib/python3.10/site-packages/torch/autograd/graph.py:744: UserWarning: Plan failed with a cudnnException: CUDNN_BACKEND_EXECUTION_PLAN_DESCRIPTOR: cudnnFinalize Descriptor Failed cudnn_status: CUDNN_STATUS_NOT_SUPPORTED (Triggered internally at ../aten/src/ATen/native/cudnn/Conv_v8.cpp:919.)\n",
            "  return Variable._execution_engine.run_backward(  # Calls into the C++ engine to run the backward pass\n",
            "Epoch 0:  36%|█████         | 46/127 [00:23<00:41,  1.94it/s, loss=125, v_num=0]^C\n",
            "/home/bkwan27/anaconda3/lib/python3.10/site-packages/pytorch_lightning/trainer/call.py:48: UserWarning: Detected KeyboardInterrupt, attempting graceful shutdown...\n",
            "  rank_zero_warn(\"Detected KeyboardInterrupt, attempting graceful shutdown...\")\n",
            "Error executing job with overrides: ['user=single_user']\n"
          ]
        }
      ],
      "source": [
        "# Single-user training\n",
        "!python -m emg2qwerty.train \\\n",
        "  user=\"single_user\" \\\n",
        "  trainer.accelerator=gpu trainer.devices=1 \\\n",
        "  --multirun"
      ]
    },
    {
      "cell_type": "code",
      "execution_count": null,
      "metadata": {},
      "outputs": [],
      "source": []
    },
    {
      "cell_type": "markdown",
      "metadata": {
        "id": "MGANotiwhngl"
      },
      "source": [
        "#### Testing:\n",
        "\n",
        "- Replace `Your_Path_to_Checkpoint` with your checkpoint path."
      ]
    },
    {
      "cell_type": "code",
      "execution_count": null,
      "metadata": {
        "id": "p68aDt-8pmGj"
      },
      "outputs": [],
      "source": [
        "# Single-user testing\n",
        "!python -m emg2qwerty.train \\\n",
        "  user=\"single_user\" \\\n",
        "  checkpoint=\"Your_Path_to_Checkpoint\" \\\n",
        "  train=False trainer.accelerator=gpu \\\n",
        "  decoder=ctc_greedy \\\n",
        "  hydra.launcher.mem_gb=64 \\\n",
        "  # --multirun"
      ]
    }
  ],
  "metadata": {
    "accelerator": "GPU",
    "colab": {
      "gpuType": "T4",
      "provenance": []
    },
    "kernelspec": {
      "display_name": "base",
      "language": "python",
      "name": "python3"
    },
    "language_info": {
      "codemirror_mode": {
        "name": "ipython",
        "version": 3
      },
      "file_extension": ".py",
      "mimetype": "text/x-python",
      "name": "python",
      "nbconvert_exporter": "python",
      "pygments_lexer": "ipython3",
      "version": "3.10.9"
    }
  },
  "nbformat": 4,
  "nbformat_minor": 0
}
